{
 "cells": [
  {
   "cell_type": "markdown",
   "metadata": {},
   "source": [
    "# Lekcja 2: Pętle sterują światem gier\n",
    "W pierwszej lekcji poznaliśmy podstawowe instrukcje Pythona. Teraz odkryjemy jak powtarzać działania i przechowywać większe zbiory danych.\n"
   ]
  },
  {
   "cell_type": "markdown",
   "metadata": {},
   "source": [
    "## Część 1: Pętla `while`\n",
    "Pętla `while` powtarza fragment kodu **dopóki** warunek pozostaje prawdziwy. To trochę jak \"powtarzaj, póki masz jeszcze życie w grze\".\n"
   ]
  },
  {
   "cell_type": "code",
   "metadata": {},
   "execution_count": null,
   "outputs": [],
   "source": [
    "counter = 0\n",
    "\n",
    "while counter < 3:\n",
    "    print(\"Counter is\", counter)\n",
    "    counter = counter + 1\n",
    "\n",
    "print(\"Loop finished!\")\n"
   ]
  },
  {
   "cell_type": "markdown",
   "metadata": {},
   "source": [
    "Ważne elementy pętli `while`:\n",
    "* **Warunek** (`counter < 3`) jest sprawdzany przed każdym obiegiem.\n",
    "* **Ciało pętli** musi być wcięte.\n",
    "* **Aktualizacja zmiennych** (np. `counter = counter + 1`) zapobiega nieskończonej pętli.\n"
   ]
  },
  {
   "cell_type": "markdown",
   "metadata": {},
   "source": [
    "Ćwiczenie 1.1 - Uzupełnij pętlę, która odlicza sekundy do startu rakiety:\n"
   ]
  },
  {
   "cell_type": "code",
   "metadata": {},
   "execution_count": null,
   "outputs": [],
   "source": [
    "seconds = 5\n",
    "\n",
    "while seconds >= 0:\n",
    "    print(\"T-minus\", seconds)\n",
    "    seconds = seconds - ____  # zmniejszaj o 1\n",
    "\n",
    "print(\"Start!\")\n"
   ]
  },
  {
   "cell_type": "markdown",
   "metadata": {},
   "source": [
    "Ćwiczenie 1.2 - Pętla gry. Uzupełnij kod tak, aby gracz tracił życie aż do jego wyczerpania:\n"
   ]
  },
  {
   "cell_type": "code",
   "metadata": {},
   "execution_count": null,
   "outputs": [],
   "source": [
    "player_name = \"Ada\"\n",
    "lives = 3\n",
    "\n",
    "while ____ > 0:\n",
    "    print(player_name, \"ma jeszcze\", lives, \"życia\")\n",
    "    lives = lives - 1\n",
    "\n",
    "print(\"Koniec gry dla\", player_name)\n"
   ]
  },
  {
   "cell_type": "markdown",
   "metadata": {},
   "source": [
    "## Część 2: Kolekcje danych\n",
    "Zmienne przechowują pojedyncze wartości. Kolekcje pozwalają przechowywać **wiele** elementów naraz. Poznamy trzy podstawowe typy: listy, zbiory (`set`) oraz słowniki (`dict`).\n"
   ]
  },
  {
   "cell_type": "markdown",
   "metadata": {},
   "source": [
    "### Listy (`list`)\n",
    "Lista to uporządkowana sekwencja elementów. Możemy dodawać, usuwać i odwoływać się do elementów po ich indeksie.\n"
   ]
  },
  {
   "cell_type": "code",
   "metadata": {},
   "execution_count": null,
   "outputs": [],
   "source": [
    "levels = [\"Forest\", \"Desert\", \"Castle\"]\n",
    "print(levels[0])  # pierwszy element (indeks 0)\n",
    "levels.append(\"Space\")\n",
    "print(levels)\n"
   ]
  },
  {
   "cell_type": "markdown",
   "metadata": {},
   "source": [
    "Ćwiczenie 2.1 - Stwórz listę ulubionych potraw i wypisz pierwszą oraz ostatnią:\n"
   ]
  },
  {
   "cell_type": "code",
   "metadata": {},
   "execution_count": null,
   "outputs": [],
   "source": [
    "favorite_foods = [____, ____, ____]\n",
    "\n",
    "print(\"Pierwsza potrawa:\", favorite_foods[0])\n",
    "print(\"Ostatnia potrawa:\", favorite_foods[____])  # użyj indeksu lub -1\n"
   ]
  },
  {
   "cell_type": "markdown",
   "metadata": {},
   "source": [
    "### Zbiory (`set`)\n",
    "Zbiór przechowuje **unikalne** elementy. Świetnie nadaje się do usuwania duplikatów albo sprawdzania przynależności elementu.\n"
   ]
  },
  {
   "cell_type": "code",
   "metadata": {},
   "execution_count": null,
   "outputs": [],
   "source": [
    "collected_badges = {\"speed\", \"wisdom\", \"courage\"}\n",
    "collected_badges.add(\"teamwork\")\n",
    "collected_badges.add(\"speed\")  # duplikat nie zostanie dodany drugi raz\n",
    "print(collected_badges)\n"
   ]
  },
  {
   "cell_type": "markdown",
   "metadata": {},
   "source": [
    "Ćwiczenie 2.2 - Zlicz unikalnych przeciwników. Dodaj do zbioru nowych wrogów i wypisz ile ich jest:\n"
   ]
  },
  {
   "cell_type": "code",
   "metadata": {},
   "execution_count": null,
   "outputs": [],
   "source": [
    "enemies = {\"slime\", \"goblin\"}\n",
    "\n",
    "enemies.add(\"dragon\")\n",
    "enemies.add(\"____\")\n",
    "enemies.add(\"____\")\n",
    "\n",
    "print(\"Unikalnych przeciwników:\", ____)  # użyj len()\n"
   ]
  },
  {
   "cell_type": "markdown",
   "metadata": {},
   "source": [
    "### Słowniki (`dict`)\n",
    "Słownik przechowuje pary **klucz: wartość**. To jak mini-tabela, w której łatwo znaleźć dane po nazwie pola.\n"
   ]
  },
  {
   "cell_type": "code",
   "metadata": {},
   "execution_count": null,
   "outputs": [],
   "source": [
    "player_stats = {\n",
    "    \"name\": \"Miko\",\n",
    "    \"health\": 85,\n",
    "    \"mana\": 40\n",
    "}\n",
    "\n",
    "print(player_stats[\"name\"])\n",
    "player_stats[\"mana\"] = 55\n",
    "print(player_stats)\n"
   ]
  },
  {
   "cell_type": "markdown",
   "metadata": {},
   "source": [
    "Ćwiczenie 2.3 - Dodaj informacje o nowej postaci i wypisz je w przyjaznym formacie:\n"
   ]
  },
  {
   "cell_type": "code",
   "metadata": {},
   "execution_count": null,
   "outputs": [],
   "source": [
    "new_character = {\n",
    "    \"name\": \"____\",\n",
    "    \"class\": \"____\",\n",
    "    \"level\": ____\n",
    "}\n",
    "\n",
    "print(\"Postać:\", new_character[\"____\"], \"(klasa:\", new_character[\"____\"], \") ma poziom\", new_character[\"____\"])\n"
   ]
  },
  {
   "cell_type": "markdown",
   "metadata": {},
   "source": [
    "## Część 3: Pętle `for`\n",
    "Gdy znamy liczbę powtórzeń lub chcemy przejść po elementach kolekcji, używamy pętli `for`.\n"
   ]
  },
  {
   "cell_type": "markdown",
   "metadata": {},
   "source": [
    "### `for` z `range`\n",
    "Funkcja `range()` generuje kolejne liczby. Najczęściej używamy jej do liczenia określonej liczby kroków.\n"
   ]
  },
  {
   "cell_type": "code",
   "metadata": {},
   "execution_count": null,
   "outputs": [],
   "source": [
    "for step in range(5):\n",
    "    print(\"Wykonuję krok\", step)\n"
   ]
  },
  {
   "cell_type": "markdown",
   "metadata": {},
   "source": [
    "Ćwiczenie 3.1 - Wypisz tabliczkę mnożenia dla liczby 4 przy użyciu `range()`:\n"
   ]
  },
  {
   "cell_type": "code",
   "metadata": {},
   "execution_count": null,
   "outputs": [],
   "source": [
    "for number in range(____):  # ile wierszy chcesz wyświetlić?\n",
    "    result = ____ * ____\n",
    "    print(\"4 x\", number, \"=\", result)\n"
   ]
  },
  {
   "cell_type": "markdown",
   "metadata": {},
   "source": [
    "### `for` po elementach kolekcji\n",
    "Możemy przejść przez listę, zbiór lub słownik i odczytywać wartości bezpośrednio.\n"
   ]
  },
  {
   "cell_type": "code",
   "metadata": {},
   "execution_count": null,
   "outputs": [],
   "source": [
    "items = [\"sword\", \"shield\", \"potion\"]\n",
    "\n",
    "for item in items:\n",
    "    print(\"You found a\", item)\n"
   ]
  },
  {
   "cell_type": "markdown",
   "metadata": {},
   "source": [
    "Ćwiczenie 3.2 - Przejdź po słowniku i wypisz statystyki w osobnych liniach:\n"
   ]
  },
  {
   "cell_type": "code",
   "metadata": {},
   "execution_count": null,
   "outputs": [],
   "source": [
    "monster = {\n",
    "    \"name\": \"Hydra\",\n",
    "    \"heads\": 5,\n",
    "    \"weakness\": \"fire\"\n",
    "}\n",
    "\n",
    "for key in monster:\n",
    "    value = monster[____]\n",
    "    print(key, \"-\", value)\n"
   ]
  },
  {
   "cell_type": "markdown",
   "metadata": {},
   "source": [
    "Ćwiczenie 3.3 - Połącz pętlę `for` z listą. Sprawdź, które poziomy zawierają literę \"a\":\n"
   ]
  },
  {
   "cell_type": "code",
   "metadata": {},
   "execution_count": null,
   "outputs": [],
   "source": [
    "levels = [\"Arena\", \"Tower\", \"Dungeon\", \"Village\"]\n",
    "\n",
    "for level in levels:\n",
    "    if \"a\" in ____:\n",
    "        print(level, \"ma literę 'a'\")\n"
   ]
  },
  {
   "cell_type": "markdown",
   "metadata": {},
   "source": [
    "## Podsumowanie\n",
    "Gratulacje! Potrafisz:\n",
    "\n",
    "✅ Sterować powtarzaniem kodu za pomocą pętli `while`\n",
    "\n",
    "✅ Przechowywać wiele wartości w listach, zbiorach i słownikach\n",
    "\n",
    "✅ Iterować po zakresach i kolekcjach dzięki pętlom `for`\n",
    "\n",
    "Spróbuj połączyć te elementy w jednym projekcie: np. losuj przeciwnika ze zbioru i użyj pętli `while`, aby walka trwała dopóki któryś z uczestników ma punkty życia.\n"
   ]
  },
  {
   "cell_type": "markdown",
   "metadata": {},
   "source": [
    "## Parazadanie domowe\n",
    "Stwórz słownik opisujący wyniki w grze (np. nazwa poziomu -> punkty). Użyj pętli `for`, aby obliczyć łączną liczbę punktów, a `while`, by zapytać użytkownika czy chce dodać kolejny wynik.\n"
   ]
  },
  {
   "cell_type": "markdown",
   "metadata": {},
   "source": [
    "## Zagnieżdżone pętle\n",
    "\n",
    "Pętle mogą się znajdować jedna w drugiej. Dzięki temu możemy np. przechodzić po wierszach i kolumnach tabliczki mnożenia. Zewnętrzna pętla wybiera numer wiersza, a wewnętrzna oblicza kolejne wartości w tym wierszu.\n",
    "\n",
    "Zwróć uwagę, że licznik wewnętrznej pętli resetuje się przy każdym przejściu zewnętrznej. To dlatego dla każdej liczby od 1 do 10 ponownie liczymy wszystkie iloczyny.\n"
   ]
  },
  {
   "cell_type": "code",
   "execution_count": null,
   "metadata": {},
   "outputs": [],
   "source": [
    "# Tabliczka mnożenia 10x10\n",
    "for row in range(1, 11):\n",
    "    line = []\n",
    "    for column in range(1, 11):\n",
    "        line.append(row * column)\n",
    "    print(*line, sep='\t')\n"
   ]
  },
  {
   "cell_type": "markdown",
   "metadata": {},
   "source": [
    "## Zadania z piramidami gwiazdek\n",
    "\n",
    "Spróbuj zaprojektować pętle, które wypiszą poniższe kształty przy użyciu symbolu `*`. Do każdej piramidy znajdziesz wskazówki w osobnej sekcji — wykorzystaj je i samodzielnie uzupełnij komórki kodu.\n",
    "\n",
    "Dodatkowe wyzwanie: pozwól użytkownikowi wpisać wysokość piramidy przed jej narysowaniem!\n"
   ]
  },
  {
   "cell_type": "markdown",
   "metadata": {},
   "source": [
    "### Piramida z czubkiem na górze\n",
    "\n",
    "1. Ustal wysokość figury (np. 5 wierszy).\n",
    "2. W zewnętrznej pętli `for` przechodź po numerach wierszy.\n",
    "3. Dla każdego wiersza oblicz liczbę spacji po lewej (maleje) i liczbę gwiazdek (rośnie).\n",
    "4. Złóż wiersz używając operatora mnożenia na stringach, a następnie go wypisz.\n"
   ]
  },
  {
   "cell_type": "code",
   "execution_count": null,
   "metadata": {},
   "outputs": [],
   "source": [
    "# TODO: Napisz kod rysujący piramidę z czubkiem na górze\n"
   ]
  },
  {
   "cell_type": "markdown",
   "metadata": {},
   "source": [
    "### Piramida odwrócona (czubek na dole)\n",
    "\n",
    "1. Zacznij od maksymalnej liczby gwiazdek i zmniejszaj ją w kolejnych wierszach.\n",
    "2. Możesz użyć `range` z krokiem ujemnym, aby wygodnie odliczać w dół.\n",
    "3. Spacje po lewej stronie powinny rosnąć wraz z numerem wiersza.\n",
    "4. Wypisuj złożony wiersz tak, by zachować symetrię piramidy.\n"
   ]
  },
  {
   "cell_type": "code",
   "execution_count": null,
   "metadata": {},
   "outputs": [],
   "source": [
    "# TODO: Napisz kod rysujący piramidę odwróconą (czubek na dole)\n"
   ]
  },
  {
   "cell_type": "markdown",
   "metadata": {},
   "source": [
    "### Piramida skierowana w prawo\n",
    "\n",
    "1. Najpierw rośnie liczba gwiazdek, a potem maleje — podobnie jak w wersji z czubkiem na górze, lecz bez spacji.\n",
    "2. Użyj jednej pętli do części rosnącej i drugiej do malejącej (lub jednej z warunkami).\n",
    "3. Każdy wiersz to po prostu ciąg gwiazdek bez dodatkowych znaków.\n"
   ]
  },
  {
   "cell_type": "code",
   "execution_count": null,
   "metadata": {},
   "outputs": [],
   "source": [
    "# TODO: Napisz kod rysujący piramidę skierowaną w prawo\n"
   ]
  },
  {
   "cell_type": "markdown",
   "metadata": {},
   "source": [
    "### Piramida skierowana w lewo\n",
    "\n",
    "1. Ta figura wymaga spacji, aby gwiazdki przesuwały się w prawo.\n",
    "2. Liczba gwiazdek rośnie, a liczba spacji maleje — odwrotnie w drugiej części piramidy.\n",
    "3. Użyj konkatenacji: `' ' * liczba_spacji + '*' * liczba_gwiazdek`.\n"
   ]
  },
  {
   "cell_type": "code",
   "execution_count": null,
   "metadata": {},
   "outputs": [],
   "source": [
    "# TODO: Napisz kod rysujący piramidę skierowaną w lewo\n"
   ]
  }
 ],
 "metadata": {
  "colab": {
   "provenance": []
  },
  "kernelspec": {
   "name": "python3",
   "display_name": "Python 3"
  },
  "language_info": {
   "name": "python"
  }
 },
 "nbformat": 4,
 "nbformat_minor": 0
}
