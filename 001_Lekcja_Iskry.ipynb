{
  "nbformat": 4,
  "nbformat_minor": 0,
  "metadata": {
    "colab": {
      "provenance": []
    },
    "kernelspec": {
      "name": "python3",
      "display_name": "Python 3"
    },
    "language_info": {
      "name": "python"
    }
  },
  "cells": [
    {
      "cell_type": "markdown",
      "source": [
        "# Lekcja 1: Scratch już był - teraz Python.\n",
        "Witamy w prawdziwym programowaniu!\n",
        "Tworzyłeś już projekty w Scratch używając bloków. Teraz nauczymy się Python - prawdziwego języka programowania używanego przez profesjonalistów w firmach takich jak Google, Netflix czy NASA!\n",
        "Dobra wiadomość? **Znasz już ważne koncepcje!** Uczymy się tylko nowego sposobu ich wyrażania.\n",
        "\n",
        "### Przygotowanie miejsca pracy\n",
        "Przygotowanie środowiska do programowania często kończy się kłopotami. Umówmy się, że będziemy opóźniać konfigurowanie środowiska tak długo jak tylko się da. Na początku będziemy pracować w tak zwanych *notebookach*. Dzisiaj  [tekst tutaj](https://jupyter.org/try-jupyter/lab/)."
      ],
      "metadata": {
        "id": "9anUulm07A0I"
      }
    },
    {
      "cell_type": "markdown",
      "source": [
        "## Część 1: Twój pierwszy program w Pythonie\n",
        "W Scratch mogłeś zacząć od prostego programu z takim blokiem:\n",
        "\n",
        "`powiedz \"Hello, World!\" przez 2 sekundy`\n",
        "\n",
        "W Pythonie piszemy:"
      ],
      "metadata": {
        "id": "BOlizDMw7Kqg"
      }
    },
    {
      "cell_type": "code",
      "source": [
        "print(\"Hello, World!\")"
      ],
      "metadata": {
        "id": "De4EPUUr7E3O"
      },
      "execution_count": null,
      "outputs": []
    },
    {
      "cell_type": "markdown",
      "source": [
        "To wszystko! Funkcja `print()` wyświetla tekst na ekranie.\n",
        "\n",
        "Spróbuj sam:\n",
        "\n",
        "Ćwiczenie 1.1 - Uzupełnij te instrukcje print:"
      ],
      "metadata": {
        "id": "FsLuCLvL82a-"
      }
    },
    {
      "cell_type": "code",
      "source": [
        "print(\"Hello, World!\")\n",
        "print(\"My name is ____\")  # Wpisz swoje imię\n",
        "print(\"I am ___ years old\")  # Wpisz swój wiek"
      ],
      "metadata": {
        "id": "XbW6S14H8-pC"
      },
      "execution_count": null,
      "outputs": []
    },
    {
      "cell_type": "markdown",
      "source": [
        "Ćwiczenie 1.2 - Stwórz własne wiadomości. Zastanów się czy dasz radę \"popsuć\" printa. Pomyśl jakie dane mogą wywołać zachowanie inne niż oczywiste."
      ],
      "metadata": {
        "id": "rZHJiZyj9Aw9"
      }
    },
    {
      "cell_type": "code",
      "source": [
        "print(\"______\")\n",
        "print(\"______\")\n",
        "print(\"______\")"
      ],
      "metadata": {
        "id": "JwB7BYkO9Vn3"
      },
      "execution_count": null,
      "outputs": []
    },
    {
      "cell_type": "markdown",
      "source": [
        "## Część 2: Zmienne - przechowywanie informacji\n",
        "\n",
        "```\n",
        "score = 0\n",
        "name = \"Alex\"\n",
        "age = 13\n",
        "```\n",
        "\n",
        "### Różne typy danych\n",
        "Python obsługuje różne rodzaje informacji:\n",
        "```\n",
        "# Liczby całkowite (integers)\n",
        "lives = 3\n",
        "high_score = 1500\n",
        "\n",
        "# Tekst (strings) - zawsze używaj cudzysłowów!\n",
        "player_name = \"Maya\"\n",
        "favorite_color = \"blue\"\n",
        "\n",
        "# Liczby dziesiętne (floats)\n",
        "speed = 2.5\n",
        "temperature = 98.6\n",
        "\n",
        "# Typy logiczne (booleans)\n",
        "is_alive = True\n",
        "is_dead = False\n",
        "\n",
        "# BTW (by-the-way - przy okazji), linijki zaczynające się od # to komentarze\n",
        "```\n",
        "\n",
        "Spróbuj sam:\n",
        "\n",
        "Ćwiczenie 2.1 - Stwórz zmienne dla postaci z gry:\n"
      ],
      "metadata": {
        "id": "wZZYZklW9XNK"
      }
    },
    {
      "cell_type": "code",
      "source": [
        "# Stwórz profil postaci\n",
        "character_name = \"____\"\n",
        "health = ____  # Liczba między 1-100\n",
        "magic_power = ____  # Liczba dziesiętna\n",
        "favorite_spell = \"____\"\n",
        "\n",
        "# Wyświetl informacje o postaci\n",
        "print(\"Character Name:\", character_name)\n",
        "print(\"Health:\", health)\n",
        "print(\"Magic Power:\", magic_power)\n",
        "print(\"Favorite Spell:\", favorite_spell)"
      ],
      "metadata": {
        "id": "26IM7eDN9lDv"
      },
      "execution_count": null,
      "outputs": []
    },
    {
      "cell_type": "markdown",
      "source": [
        "Ćwiczenie 2.2 - Wykonaj działania matematyczne ze zmiennymi:"
      ],
      "metadata": {
        "id": "QzV-sQxP-_YJ"
      }
    },
    {
      "cell_type": "code",
      "source": [
        "# Statystyki gry\n",
        "points_level_1 = ____\n",
        "points_level_2 = ____\n",
        "bonus_points = ____\n",
        "\n",
        "total_points = points_level_1 + points_level_2 + bonus_points\n",
        "print(\"Total points:\", total_points)\n",
        "\n",
        "# Oblicz średnią\n",
        "average_points = total_points / ____  # Ile poziomów ukończyłeś?\n",
        "print(\"Average points per level:\", average_points)"
      ],
      "metadata": {
        "id": "DNbxBjL5_D8i"
      },
      "execution_count": null,
      "outputs": []
    },
    {
      "cell_type": "markdown",
      "source": [
        "# Część 3: Pobieranie danych od użytkownika\n",
        "```\n",
        "name = input(\"What's your name? \")\n",
        "print(\"Nice to meet you,\", name)\n",
        "```\n",
        "Ważne: `input()` zawsze daje Ci tekst (`string`). Jeśli potrzebujesz liczby, musisz ją przekonwertować:\n",
        "```\n",
        "# Pobieranie liczby od użytkownika\n",
        "age_text = input(\"How old are you? \")\n",
        "age = int(age_text)  # Przekonwertuj na liczbę całkowitą\n",
        "\n",
        "# Lub zrób to w jednej linii:\n",
        "age = int(input(\"How old are you? \"))\n",
        "```\n",
        "Spróbuj sam:\n",
        "\n",
        "Ćwiczenie 3.1 - Stwórz interaktywny program:"
      ],
      "metadata": {
        "id": "-HDtaEt8_Fu7"
      }
    },
    {
      "cell_type": "code",
      "source": [
        "# Zbieracz informacji osobistych\n",
        "name = \"\"\n",
        "favorite_food = \"\"\n",
        "age = 0\n",
        "\n",
        "# Oblicz coś ciekawego\n",
        "years_until_adult = 100\n",
        "\n",
        "print(\"Hi\", name)\n",
        "print(\"Your favorite food is\", favorite_food)\n",
        "print(\"You'll be an adult in\", years_until_adult, \"years!\")"
      ],
      "metadata": {
        "id": "cWZljHiK_e4O"
      },
      "execution_count": null,
      "outputs": []
    },
    {
      "cell_type": "markdown",
      "source": [
        "Ćwiczenie 3.2 - Zbuduj prosty kalkulator:\n"
      ],
      "metadata": {
        "id": "TrzD9fYJ_liF"
      }
    },
    {
      "cell_type": "code",
      "source": [
        "print(\"=== Simple Calculator ===\")\n",
        "\n",
        "# Pobierz dwie liczby od użytkownika\n",
        "first_number = float(input(\"Enter first number: \"))\n",
        "second_number = float(input(\"Enter second number: \"))\n",
        "\n",
        "# Oblicz wyniki\n",
        "sum_result = 0\n",
        "difference = 0\n",
        "product = 0\n",
        "\n",
        "print(\"Sum:\", sum_result)\n",
        "print(\"Difference:\", difference)\n",
        "print(\"Product:\", product)\n",
        "\n",
        "# Wyzwanie: Czy potrafisz dodać dzielenie? (Wskazówka: użyj /)"
      ],
      "metadata": {
        "id": "lVHrU8u7_mXh"
      },
      "execution_count": null,
      "outputs": []
    },
    {
      "cell_type": "markdown",
      "source": [
        "# Część 4: Podejmowanie decyzji z instrukcjami If\n",
        "\n",
        "```\n",
        "age = int(input(\"How old are you? \"))\n",
        "\n",
        "if age >= 13:\n",
        "    print(\"You're a teenager!\")\n",
        "    print(\"You can be hold accountable\")\n",
        "else:\n",
        "    print(\"You're still a kid!\")\n",
        "    print(\"Enjoy being young! It will still be fun when you grow but in a different way!\")\n",
        "```\n",
        "Ważne zasady Python:\n",
        "\n",
        "* Użyj dwukropka : po warunku if\n",
        "* Wcięcie kodu wewnątrz bloku if (użyj Tab lub 4 spacje)\n",
        "* Python jest bardzo wrażliwy na wcięcia!\n",
        "\n",
        "Wiele warunków\n",
        "```\n",
        "temperature = float(input(\"What's the temperature outside? \"))\n",
        "\n",
        "if temperature > 80:\n",
        "    print(\"It's hot! Wear shorts.\")\n",
        "elif temperature > 60:  # elif oznacza \"else if\"\n",
        "    print(\"Nice weather! Perfect for jeans.\")\n",
        "elif temperature > 32:\n",
        "    print(\"It's cold. Wear a jacket!\")\n",
        "else:\n",
        "    print(\"It's freezing! Bundle up!\")\n",
        "```\n",
        "\n",
        "Spróbuj sam:\n",
        "\n",
        "Ćwiczenie 4.1 - Stwórz kalkulator ocen:"
      ],
      "metadata": {
        "id": "b_PhOFpR_944"
      }
    },
    {
      "cell_type": "code",
      "source": [
        "# Kalkulator ocen\n",
        "score = 0 # pobierz score od użytkownika\n",
        "\n",
        "if score >= 90:\n",
        "    grade = \"A\"\n",
        "    print(\"Excellent work!\")\n",
        "\n",
        "print(\"Your grade is:\", grade)"
      ],
      "metadata": {
        "id": "FSkN7Q7kAl9k"
      },
      "execution_count": null,
      "outputs": []
    },
    {
      "cell_type": "markdown",
      "source": [
        "# Część 5: Podsumowanie\n",
        "Gratulacje! Teraz wiesz jak:\n",
        "\n",
        "✅ Wyświetlać tekst z print()\n",
        "\n",
        "✅ Przechowywać informacje w zmiennych\n",
        "\n",
        "✅ Pobierać dane od użytkowników\n",
        "\n",
        "✅ Podejmować decyzje z instrukcjami if\n",
        "\n",
        "✅ Konwertować między różnymi typami danych\n",
        "\n",
        "✅ Używać liczb losowych\n",
        "\n",
        "To nie jest mało jak na 40 minut brutto (netto to czas bez wyciągania laptopów, sprawdzania obecności czy chodzenia po klasie).\n",
        "\n",
        "## Parazadanie domowe\n",
        "```\n",
        "if rozumiesz_wszystko_z_tej_lekcji:\n",
        "    print(\"Sprawdź co się stanie jak podzielisz coś przez zero\")\n",
        "else:\n",
        "    print(\"Wykorzystaj dowolny model AI (może być Grok) i w obecności rodzica pytaj go o poszczególne części tej lekcji. Możesz prosić o wytłumaczenie tak, jakby tłumaczył przedszkolakowi, 8 latkowi. Zapisz fragment 'rozmowy' który najbardziej Ci pomógł\")"
      ],
      "metadata": {
        "id": "3XKfpe1fEx-X"
      }
    },
    {
      "cell_type": "markdown",
      "source": [
        "## Appendix A\n",
        "Nie wszystko pisze się za każdym razem od zera. Wręcz przeciwnie. W programowaniu korzystamy nieustannie z gotowych komponentów, które są dużo bardziej złożone niż to co do tej pory widziałeś. Dojdziemy najpierw do korzystania z nich, a pod koniec roku będziemy takie tworzyć.\n",
        "\n",
        "Teraz, chciałbym dać Ci namiastkę tego, jak przyjemnie korzysta się z czegoś, co ktoś już kiedyś zrobił. Wyobraź sobie, że chcesz zaimplementować kod, który losuje dzień tygodnia. Mając narzędzia z dzisiejszej lekcji byłoby to sporym wyzwaniem (ale się da! - *zastanów się jak wykorzystać resztę z dzielenia - %* do stworzenia pseudo-losowego algorytmu losowania), ale okazuje się, że wraz z Pythonem, dostępny jest *klocek*, który pozwala losować dość łatwo (por. z następną komórką). Zyskasz z tej lekcji więcej, jeśli oprócz zrozumienia tego kodu, spróbujesz z pomocą internetu sprawdzić jaki mamy dzień tygodnia dzisiaj i porównać go z wylosowanym."
      ],
      "metadata": {
        "id": "pZTdc4oxA5jr"
      }
    },
    {
      "cell_type": "code",
      "source": [
        "import random\n",
        "\n",
        "random_day_of_week = random.choice([\"Monday\", \"Tuesday\", \"Wednesday\", \"Thursday\", \"Friday\", \"Saturday\", \"Sunday\"])\n",
        "print(\"Today is\", random_day_of_week)\n",
        "print(\"Today is\", \"Sunday\")"
      ],
      "metadata": {
        "colab": {
          "base_uri": "https://localhost:8080/"
        },
        "id": "391riQNgCqM6",
        "outputId": "d6ee8a80-894b-4cbd-9fb8-231b46615de7"
      },
      "execution_count": 4,
      "outputs": [
        {
          "output_type": "stream",
          "name": "stdout",
          "text": [
            "Today is Saturday\n",
            "Today is Sunday\n"
          ]
        }
      ]
    },
    {
      "cell_type": "markdown",
      "source": [
        "# Appendix B\n",
        "Przykładem prostej gry, którą możesz zaimplementować ze swoją aktualną wiedzą jest gra w zgadywanie liczby. Napisz program, który będzie losował liczbę z przedziału 1-10, a następnie pytał Cię o Twój strzał. Wyświetl następnie informację czy strzał był trafiony, za duży czy za mały.\n",
        "\n",
        "*Hint (ang. wskazówka):* wyszukaj w internecie `How to draw a random number between 1 and 10 in Python`. Możesz skorzystać z wyników z Gemini, Stack Overflow lub innego źródła."
      ],
      "metadata": {
        "id": "uJAd_aOTDSzc"
      }
    }
  ]
}
